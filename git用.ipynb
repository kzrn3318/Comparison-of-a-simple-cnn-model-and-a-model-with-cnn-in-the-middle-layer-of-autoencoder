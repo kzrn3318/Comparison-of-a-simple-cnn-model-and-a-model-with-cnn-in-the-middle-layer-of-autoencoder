{
 "cells": [
  {
   "cell_type": "markdown",
   "metadata": {},
   "source": [
    "##### import"
   ]
  },
  {
   "cell_type": "code",
   "execution_count": 203,
   "metadata": {},
   "outputs": [],
   "source": [
    "import os\n",
    "import numpy as np\n",
    "import pandas as pd\n",
    "import tensorflow as tf\n",
    "import tensorflow.keras as keras\n",
    "from tensorflow.keras import Model \n",
    "import random\n",
    "from tensorflow.keras.layers import (\n",
    "    Dense, Flatten, Input, Add, Conv2D, MaxPooling2D, LeakyReLU\n",
    ")\n",
    "\n",
    "from tensorflow.keras import Model\n",
    "\n",
    "keras.backend.image_data_format()\n",
    "keras.backend.set_image_data_format('channels_last')"
   ]
  },
  {
   "cell_type": "markdown",
   "metadata": {},
   "source": [
    "##### 各label100枚ずつの学習用データの作成"
   ]
  },
  {
   "cell_type": "code",
   "execution_count": 204,
   "metadata": {},
   "outputs": [],
   "source": [
    "from keras.datasets import mnist\n",
    "import numpy as np\n",
    "(x_train, y_train), (x_test, y_test) = mnist.load_data() # mnistのload"
   ]
  },
  {
   "cell_type": "code",
   "execution_count": 205,
   "metadata": {},
   "outputs": [],
   "source": [
    "import pandas as pd\n",
    "\n",
    "#各label100枚ずつ足りだすためのコード、pandasを用いて行う\n",
    "df = pd.DataFrame(columns=[\"label\"])\n",
    "df[\"label\"] = y_train.reshape([-1])\n",
    "\n",
    "list_0 = df.loc[df.label==0].sample(n=100)#n=100でsampling\n",
    "list_1 = df.loc[df.label==1].sample(n=100)\n",
    "list_2 = df.loc[df.label==2].sample(n=100)\n",
    "list_3 = df.loc[df.label==3].sample(n=100)\n",
    "list_4 = df.loc[df.label==4].sample(n=100)\n",
    "list_5 = df.loc[df.label==5].sample(n=100)\n",
    "list_6 = df.loc[df.label==6].sample(n=100)\n",
    "list_7 = df.loc[df.label==7].sample(n=100)\n",
    "list_8 = df.loc[df.label==8].sample(n=100)\n",
    "list_9 = df.loc[df.label==9].sample(n=100)\n",
    "\n",
    "label_list = pd.concat([list_0,list_1,list_2,list_3,list_4,list_5,list_6,list_7,list_8,\n",
    "                       list_9])\n",
    "label_list = label_list.sort_index()\n",
    "label_idx = label_list.index.values\n",
    "\n",
    "train_label = label_list.label.values\n",
    "\n",
    "\"\"\"\n",
    "x_trainからlabel用のdataframe.indexを取り出すことでlabelに対応したデータを取り出す。\n",
    "\"\"\"\n",
    "x_train = x_train[label_idx]\n",
    "y_train= train_label\n",
    "x_train = x_train / 255\n",
    "x_test = x_test / 255"
   ]
  },
  {
   "cell_type": "code",
   "execution_count": 206,
   "metadata": {},
   "outputs": [
    {
     "data": {
      "text/plain": [
       "(1000, 28, 28)"
      ]
     },
     "execution_count": 206,
     "metadata": {},
     "output_type": "execute_result"
    }
   ],
   "source": [
    "x_train.shape #100 * 10なので1000になっていることが分かる"
   ]
  },
  {
   "cell_type": "code",
   "execution_count": 207,
   "metadata": {},
   "outputs": [],
   "source": [
    "from sklearn.preprocessing import OneHotEncoder\n",
    "onehot = OneHotEncoder(sparse=False)\n",
    "y_train = onehot.fit_transform(y_train.reshape([len(y_train),1]))"
   ]
  },
  {
   "cell_type": "code",
   "execution_count": 208,
   "metadata": {},
   "outputs": [],
   "source": [
    "from sklearn.model_selection import train_test_split\n",
    "x_train , x_val , y_train , y_val = train_test_split(x_train,y_train,test_size=0.2)"
   ]
  },
  {
   "cell_type": "markdown",
   "metadata": {},
   "source": [
    "### 改良前のcnn model"
   ]
  },
  {
   "cell_type": "code",
   "execution_count": 209,
   "metadata": {},
   "outputs": [],
   "source": [
    "def seed_everything(seed=2020):\n",
    "    random.seed(seed)\n",
    "    os.environ['PYTHONHASHSEED'] = str(seed)\n",
    "    np.random.seed(seed)\n",
    "    tf.random.set_seed(seed)\n",
    "    \n",
    "seed_everything()"
   ]
  },
  {
   "cell_type": "markdown",
   "metadata": {},
   "source": [
    "cnnを使用した分類modelの作成"
   ]
  },
  {
   "cell_type": "code",
   "execution_count": 210,
   "metadata": {},
   "outputs": [],
   "source": [
    "inp = Input(shape=(28,28,1),name=\"inp2\")\n",
    "p3 = Conv2D(32,2,2,padding=\"same\")(inp)\n",
    "p3 = Conv2D(16,2,2,padding=\"same\")(p3)\n",
    "p3 = MaxPooling2D(2,2,padding=\"same\")(p3)\n",
    "p3 = p3 = Conv2D(8,2,2,padding=\"same\")(p3)\n",
    "p3 = MaxPooling2D(2,2,padding=\"same\")(p3)\n",
    "p3 = p3 = Conv2D(8,2,2,padding=\"same\")(p3)\n",
    "p3 = MaxPooling2D(2,2,padding=\"same\")(p3)\n",
    "p3 = Flatten()(p3)\n",
    "p3 = Dense(128,activation=\"relu\")(p3)\n",
    "p3 = Dense(64,activation=\"relu\")(p3)\n",
    "out = Dense(10,activation=\"softmax\")(p3)"
   ]
  },
  {
   "cell_type": "code",
   "execution_count": 211,
   "metadata": {},
   "outputs": [],
   "source": [
    "model = Model(inp,out)\n",
    "model.compile(optimizer='adam', \n",
    "              loss=\"categorical_crossentropy\", \n",
    "              metrics=\"acc\")"
   ]
  },
  {
   "cell_type": "code",
   "execution_count": 212,
   "metadata": {},
   "outputs": [
    {
     "name": "stdout",
     "output_type": "stream",
     "text": [
      "Epoch 1/10000\n",
      "100/100 [==============================] - 0s 4ms/step - loss: 2.2716 - acc: 0.1600 - val_loss: 2.1329 - val_acc: 0.2550\n",
      "Epoch 2/10000\n",
      "100/100 [==============================] - 0s 2ms/step - loss: 1.7983 - acc: 0.3388 - val_loss: 1.5113 - val_acc: 0.4650\n",
      "Epoch 3/10000\n",
      "100/100 [==============================] - 0s 2ms/step - loss: 1.2667 - acc: 0.5788 - val_loss: 1.2275 - val_acc: 0.5300\n",
      "Epoch 4/10000\n",
      "100/100 [==============================] - 0s 2ms/step - loss: 1.0514 - acc: 0.6250 - val_loss: 1.0747 - val_acc: 0.6500\n",
      "Epoch 5/10000\n",
      "100/100 [==============================] - 0s 2ms/step - loss: 0.9203 - acc: 0.6775 - val_loss: 1.0086 - val_acc: 0.6400\n",
      "Epoch 6/10000\n",
      "100/100 [==============================] - 0s 2ms/step - loss: 0.8257 - acc: 0.7075 - val_loss: 0.9948 - val_acc: 0.6550\n",
      "Epoch 7/10000\n",
      "100/100 [==============================] - 0s 2ms/step - loss: 0.7541 - acc: 0.7362 - val_loss: 0.9651 - val_acc: 0.6700\n",
      "Epoch 8/10000\n",
      "100/100 [==============================] - 0s 2ms/step - loss: 0.6772 - acc: 0.7675 - val_loss: 0.9508 - val_acc: 0.6850\n",
      "Epoch 9/10000\n",
      "100/100 [==============================] - 0s 2ms/step - loss: 0.6058 - acc: 0.8075 - val_loss: 0.8816 - val_acc: 0.7150\n",
      "Epoch 10/10000\n",
      "100/100 [==============================] - 0s 2ms/step - loss: 0.5722 - acc: 0.7937 - val_loss: 0.8586 - val_acc: 0.7000\n",
      "Epoch 11/10000\n",
      "100/100 [==============================] - 0s 2ms/step - loss: 0.5360 - acc: 0.8100 - val_loss: 0.9920 - val_acc: 0.6700\n",
      "Epoch 12/10000\n",
      "100/100 [==============================] - 0s 2ms/step - loss: 0.4781 - acc: 0.8438 - val_loss: 0.9148 - val_acc: 0.7150\n",
      "Epoch 13/10000\n",
      "100/100 [==============================] - 0s 2ms/step - loss: 0.4508 - acc: 0.8338 - val_loss: 0.9641 - val_acc: 0.6900\n",
      "Epoch 14/10000\n",
      "100/100 [==============================] - 0s 2ms/step - loss: 0.4448 - acc: 0.8475 - val_loss: 0.8879 - val_acc: 0.7200\n",
      "Epoch 15/10000\n",
      "100/100 [==============================] - 0s 2ms/step - loss: 0.4120 - acc: 0.8500 - val_loss: 0.8939 - val_acc: 0.7150\n",
      "Epoch 16/10000\n",
      "100/100 [==============================] - 0s 2ms/step - loss: 0.3991 - acc: 0.8687 - val_loss: 0.9517 - val_acc: 0.7200\n",
      "Epoch 17/10000\n",
      "100/100 [==============================] - 0s 2ms/step - loss: 0.3446 - acc: 0.8863 - val_loss: 0.9457 - val_acc: 0.7400\n",
      "Epoch 18/10000\n",
      "100/100 [==============================] - 0s 2ms/step - loss: 0.3299 - acc: 0.8863 - val_loss: 0.9269 - val_acc: 0.7350\n",
      "Epoch 19/10000\n",
      "100/100 [==============================] - 0s 2ms/step - loss: 0.3197 - acc: 0.8938 - val_loss: 0.9932 - val_acc: 0.7250\n",
      "Epoch 20/10000\n",
      "100/100 [==============================] - 0s 2ms/step - loss: 0.3001 - acc: 0.8988 - val_loss: 1.0106 - val_acc: 0.7550\n"
     ]
    },
    {
     "data": {
      "text/plain": [
       "<tensorflow.python.keras.callbacks.History at 0x1d23a05e130>"
      ]
     },
     "execution_count": 212,
     "metadata": {},
     "output_type": "execute_result"
    }
   ],
   "source": [
    "from keras.callbacks import EarlyStopping \n",
    "early_stopping = EarlyStopping(monitor='val_loss', min_delta=0.00001, patience=10, mode='auto') \n",
    "\n",
    "model.fit(x =x_train,\n",
    "          y=y_train, \n",
    "          epochs=10000, \n",
    "          batch_size=8, \n",
    "          shuffle=True, \n",
    "          validation_data=(x_val,y_val), \n",
    "          callbacks=[early_stopping]\n",
    "         )"
   ]
  },
  {
   "cell_type": "code",
   "execution_count": 213,
   "metadata": {},
   "outputs": [],
   "source": [
    "pred_labels = model.predict(x_test)"
   ]
  },
  {
   "cell_type": "code",
   "execution_count": 214,
   "metadata": {},
   "outputs": [
    {
     "name": "stdout",
     "output_type": "stream",
     "text": [
      "0.7748\n"
     ]
    }
   ],
   "source": [
    "pred = []\n",
    "for label in pred_labels:\n",
    "    idx = label.argmax()\n",
    "    pred.append(idx)\n",
    "\n",
    "from sklearn.metrics import accuracy_score\n",
    "print(accuracy_score(y_test,pred))"
   ]
  },
  {
   "cell_type": "markdown",
   "metadata": {},
   "source": [
    "改良前のmodelではacc_scoreは0.7748を出力している。"
   ]
  },
  {
   "cell_type": "code",
   "execution_count": 215,
   "metadata": {},
   "outputs": [],
   "source": [
    "del model"
   ]
  },
  {
   "cell_type": "markdown",
   "metadata": {},
   "source": [
    "#### autorncoderを用いてcnn modelの改良を行う\n",
    "cnn modelの形状は変更しないものとする"
   ]
  },
  {
   "cell_type": "code",
   "execution_count": 216,
   "metadata": {},
   "outputs": [],
   "source": [
    "def seed_everything(seed=2020):\n",
    "    random.seed(seed)\n",
    "    os.environ['PYTHONHASHSEED'] = str(seed)\n",
    "    np.random.seed(seed)\n",
    "    tf.random.set_seed(seed)\n",
    "    \n",
    "seed_everything()"
   ]
  },
  {
   "cell_type": "code",
   "execution_count": 217,
   "metadata": {},
   "outputs": [],
   "source": [
    "#autoencoder部\n",
    "input_img = Input(shape=(784,),name=\"inp1\")\n",
    "x= Dense(256, activation=\"relu\")(input_img)\n",
    "x = Dense(128,activation=\"relu\")(x)\n",
    "encoded = Dense(128, activation=\"relu\")(x)\n",
    "\n",
    "z = Dense(128, activation=\"relu\")(encoded)\n",
    "decoded = Dense(784, activation=\"sigmoid\",name=\"decoded\")(z)\n",
    "\n",
    "#autoencoderの中間層からの出力を受け取り全結合\n",
    "p2 = Dense(128,activation=\"relu\")(encoded)\n",
    "p2 = Dense(64,activation=\"relu\")(p2)\n",
    "\n",
    "#比べる対象cnn model、構造は改良前と同一なもの\n",
    "inp = Input(shape=(28,28,1),name=\"inp2\")\n",
    "p3 = Conv2D(32,2,2,padding=\"same\")(inp)\n",
    "p3 = Conv2D(16,2,2,padding=\"same\")(p3)\n",
    "p3 = MaxPooling2D(2,2,padding=\"same\")(p3)\n",
    "p3 = p3 = Conv2D(8,2,2,padding=\"same\")(p3)\n",
    "p3 = MaxPooling2D(2,2,padding=\"same\")(p3)\n",
    "p3 = p3 = Conv2D(8,2,2,padding=\"same\")(p3)\n",
    "p3 = MaxPooling2D(2,2,padding=\"same\")(p3)\n",
    "p3 = Flatten()(p3)\n",
    "p3 = Dense(128,activation=\"relu\")(p3)\n",
    "p3 = Dense(64,activation=\"relu\")(p3)\n",
    "\n",
    "p = Add()([p2,p3])\n",
    "p = Dense(32,activation=\"relu\")(p)\n",
    "predictor = Dense(10,activation=\"softmax\",name=\"predictor\")(p)\n",
    "\n",
    "#各層をmultiple inputs outputsとしてcompile\n",
    "model = Model(inputs=[input_img,inp], outputs=[decoded,predictor])\n",
    "model.compile(optimizer='adam', \n",
    "              loss={\"decoded\":\"mse\",\"predictor\":\"categorical_crossentropy\"}, \n",
    "              metrics={\"predictor\":\"acc\"})"
   ]
  },
  {
   "cell_type": "code",
   "execution_count": 218,
   "metadata": {
    "scrolled": true
   },
   "outputs": [
    {
     "name": "stdout",
     "output_type": "stream",
     "text": [
      "Model: \"functional_35\"\n",
      "__________________________________________________________________________________________________\n",
      "Layer (type)                    Output Shape         Param #     Connected to                     \n",
      "==================================================================================================\n",
      "inp2 (InputLayer)               [(None, 28, 28, 1)]  0                                            \n",
      "__________________________________________________________________________________________________\n",
      "conv2d_72 (Conv2D)              (None, 14, 14, 32)   160         inp2[0][0]                       \n",
      "__________________________________________________________________________________________________\n",
      "conv2d_73 (Conv2D)              (None, 7, 7, 16)     2064        conv2d_72[0][0]                  \n",
      "__________________________________________________________________________________________________\n",
      "max_pooling2d_54 (MaxPooling2D) (None, 4, 4, 16)     0           conv2d_73[0][0]                  \n",
      "__________________________________________________________________________________________________\n",
      "conv2d_74 (Conv2D)              (None, 2, 2, 8)      520         max_pooling2d_54[0][0]           \n",
      "__________________________________________________________________________________________________\n",
      "inp1 (InputLayer)               [(None, 784)]        0                                            \n",
      "__________________________________________________________________________________________________\n",
      "max_pooling2d_55 (MaxPooling2D) (None, 1, 1, 8)      0           conv2d_74[0][0]                  \n",
      "__________________________________________________________________________________________________\n",
      "dense_105 (Dense)               (None, 256)          200960      inp1[0][0]                       \n",
      "__________________________________________________________________________________________________\n",
      "conv2d_75 (Conv2D)              (None, 1, 1, 8)      264         max_pooling2d_55[0][0]           \n",
      "__________________________________________________________________________________________________\n",
      "dense_106 (Dense)               (None, 128)          32896       dense_105[0][0]                  \n",
      "__________________________________________________________________________________________________\n",
      "max_pooling2d_56 (MaxPooling2D) (None, 1, 1, 8)      0           conv2d_75[0][0]                  \n",
      "__________________________________________________________________________________________________\n",
      "dense_107 (Dense)               (None, 128)          16512       dense_106[0][0]                  \n",
      "__________________________________________________________________________________________________\n",
      "flatten_18 (Flatten)            (None, 8)            0           max_pooling2d_56[0][0]           \n",
      "__________________________________________________________________________________________________\n",
      "dense_109 (Dense)               (None, 128)          16512       dense_107[0][0]                  \n",
      "__________________________________________________________________________________________________\n",
      "dense_111 (Dense)               (None, 128)          1152        flatten_18[0][0]                 \n",
      "__________________________________________________________________________________________________\n",
      "dense_110 (Dense)               (None, 64)           8256        dense_109[0][0]                  \n",
      "__________________________________________________________________________________________________\n",
      "dense_112 (Dense)               (None, 64)           8256        dense_111[0][0]                  \n",
      "__________________________________________________________________________________________________\n",
      "add_8 (Add)                     (None, 64)           0           dense_110[0][0]                  \n",
      "                                                                 dense_112[0][0]                  \n",
      "__________________________________________________________________________________________________\n",
      "dense_108 (Dense)               (None, 128)          16512       dense_107[0][0]                  \n",
      "__________________________________________________________________________________________________\n",
      "dense_113 (Dense)               (None, 32)           2080        add_8[0][0]                      \n",
      "__________________________________________________________________________________________________\n",
      "decoded (Dense)                 (None, 784)          101136      dense_108[0][0]                  \n",
      "__________________________________________________________________________________________________\n",
      "predictor (Dense)               (None, 10)           330         dense_113[0][0]                  \n",
      "==================================================================================================\n",
      "Total params: 407,610\n",
      "Trainable params: 407,610\n",
      "Non-trainable params: 0\n",
      "__________________________________________________________________________________________________\n"
     ]
    }
   ],
   "source": [
    "model.summary()"
   ]
  },
  {
   "cell_type": "code",
   "execution_count": 219,
   "metadata": {},
   "outputs": [],
   "source": [
    "x_train_1 = x_train.reshape(len(x_train),784,1)\n",
    "x_train_2 = x_train.reshape(len(x_train),28,28,1)\n",
    "\n",
    "x_val_1 = x_val.reshape(len(x_val),784,1)\n",
    "x_val_2 = x_val.reshape(len(x_val),28,28,1)"
   ]
  },
  {
   "cell_type": "code",
   "execution_count": 220,
   "metadata": {
    "scrolled": false
   },
   "outputs": [
    {
     "name": "stdout",
     "output_type": "stream",
     "text": [
      "Epoch 1/10000\n",
      "100/100 [==============================] - 0s 5ms/step - loss: 1.5211 - decoded_loss: 0.0930 - predictor_loss: 1.4281 - predictor_acc: 0.5188 - val_loss: 0.8701 - val_decoded_loss: 0.0595 - val_predictor_loss: 0.8106 - val_predictor_acc: 0.7800\n",
      "Epoch 2/10000\n",
      "100/100 [==============================] - 0s 3ms/step - loss: 0.5743 - decoded_loss: 0.0575 - predictor_loss: 0.5168 - predictor_acc: 0.8238 - val_loss: 0.6071 - val_decoded_loss: 0.0534 - val_predictor_loss: 0.5538 - val_predictor_acc: 0.8550\n",
      "Epoch 3/10000\n",
      "100/100 [==============================] - 0s 3ms/step - loss: 0.4203 - decoded_loss: 0.0532 - predictor_loss: 0.3672 - predictor_acc: 0.8763 - val_loss: 0.6077 - val_decoded_loss: 0.0507 - val_predictor_loss: 0.5570 - val_predictor_acc: 0.8100\n",
      "Epoch 4/10000\n",
      "100/100 [==============================] - 0s 3ms/step - loss: 0.2654 - decoded_loss: 0.0506 - predictor_loss: 0.2148 - predictor_acc: 0.9312 - val_loss: 0.3958 - val_decoded_loss: 0.0490 - val_predictor_loss: 0.3468 - val_predictor_acc: 0.8900\n",
      "Epoch 5/10000\n",
      "100/100 [==============================] - 0s 3ms/step - loss: 0.2580 - decoded_loss: 0.0496 - predictor_loss: 0.2083 - predictor_acc: 0.9400 - val_loss: 0.5428 - val_decoded_loss: 0.0489 - val_predictor_loss: 0.4938 - val_predictor_acc: 0.8650\n",
      "Epoch 6/10000\n",
      "100/100 [==============================] - 0s 3ms/step - loss: 0.1587 - decoded_loss: 0.0477 - predictor_loss: 0.1110 - predictor_acc: 0.9663 - val_loss: 0.6843 - val_decoded_loss: 0.0479 - val_predictor_loss: 0.6364 - val_predictor_acc: 0.8300\n",
      "Epoch 7/10000\n",
      "100/100 [==============================] - 0s 3ms/step - loss: 0.1534 - decoded_loss: 0.0473 - predictor_loss: 0.1061 - predictor_acc: 0.9675 - val_loss: 0.4496 - val_decoded_loss: 0.0455 - val_predictor_loss: 0.4041 - val_predictor_acc: 0.8900\n",
      "Epoch 8/10000\n",
      "100/100 [==============================] - 0s 3ms/step - loss: 0.0990 - decoded_loss: 0.0449 - predictor_loss: 0.0542 - predictor_acc: 0.9825 - val_loss: 0.6489 - val_decoded_loss: 0.0444 - val_predictor_loss: 0.6045 - val_predictor_acc: 0.8750\n",
      "Epoch 9/10000\n",
      "100/100 [==============================] - 0s 3ms/step - loss: 0.0513 - decoded_loss: 0.0429 - predictor_loss: 0.0085 - predictor_acc: 0.9975 - val_loss: 0.5573 - val_decoded_loss: 0.0430 - val_predictor_loss: 0.5143 - val_predictor_acc: 0.8850\n",
      "Epoch 10/10000\n",
      "100/100 [==============================] - 0s 3ms/step - loss: 0.0424 - decoded_loss: 0.0409 - predictor_loss: 0.0015 - predictor_acc: 1.0000 - val_loss: 0.4915 - val_decoded_loss: 0.0413 - val_predictor_loss: 0.4502 - val_predictor_acc: 0.9000\n",
      "Epoch 11/10000\n",
      "100/100 [==============================] - 0s 3ms/step - loss: 0.0400 - decoded_loss: 0.0393 - predictor_loss: 6.6664e-04 - predictor_acc: 1.0000 - val_loss: 0.5003 - val_decoded_loss: 0.0400 - val_predictor_loss: 0.4603 - val_predictor_acc: 0.9000\n",
      "Epoch 12/10000\n",
      "100/100 [==============================] - 0s 3ms/step - loss: 0.0381 - decoded_loss: 0.0377 - predictor_loss: 4.6064e-04 - predictor_acc: 1.0000 - val_loss: 0.5188 - val_decoded_loss: 0.0391 - val_predictor_loss: 0.4797 - val_predictor_acc: 0.9050\n",
      "Epoch 13/10000\n",
      "100/100 [==============================] - 0s 3ms/step - loss: 0.0364 - decoded_loss: 0.0361 - predictor_loss: 3.4138e-04 - predictor_acc: 1.0000 - val_loss: 0.5359 - val_decoded_loss: 0.0380 - val_predictor_loss: 0.4979 - val_predictor_acc: 0.9050\n",
      "Epoch 14/10000\n",
      "100/100 [==============================] - 0s 3ms/step - loss: 0.0351 - decoded_loss: 0.0348 - predictor_loss: 2.6237e-04 - predictor_acc: 1.0000 - val_loss: 0.5323 - val_decoded_loss: 0.0368 - val_predictor_loss: 0.4955 - val_predictor_acc: 0.9100\n"
     ]
    },
    {
     "data": {
      "text/plain": [
       "<tensorflow.python.keras.callbacks.History at 0x1d2297ae9d0>"
      ]
     },
     "execution_count": 220,
     "metadata": {},
     "output_type": "execute_result"
    }
   ],
   "source": [
    "from keras.callbacks import EarlyStopping \n",
    "early_stopping = EarlyStopping(monitor='val_predictor_loss', min_delta=0.00001, patience=10, mode='auto') \n",
    "\n",
    "model.fit(x = {\"inp1\":x_train_1,\"inp2\":x_train_2},\n",
    "          y={\"decoded\":x_train_1,\"predictor\":y_train}, \n",
    "          epochs=10000, \n",
    "          batch_size=8, \n",
    "          shuffle=True, \n",
    "          validation_data=({\"inp1\":x_val_1,\"inp2\":x_val_2}, {\"decoded\":x_val_1,\"predictor\":y_val}), \n",
    "          callbacks=[early_stopping]\n",
    "         )"
   ]
  },
  {
   "cell_type": "code",
   "execution_count": 221,
   "metadata": {},
   "outputs": [],
   "source": [
    "x_test_1 = x_test.reshape(len(x_test),784,1)\n",
    "x_test_2 = x_test.reshape(len(x_test),28,28,1)"
   ]
  },
  {
   "cell_type": "code",
   "execution_count": 222,
   "metadata": {},
   "outputs": [],
   "source": [
    "pred_img ,pred_labels = model.predict({\"inp1\":x_test_1,\"inp2\":x_test_2})"
   ]
  },
  {
   "cell_type": "code",
   "execution_count": 223,
   "metadata": {},
   "outputs": [
    {
     "data": {
      "image/png": "[encoded data removed]",
      "text/plain": [
       "<Figure size 432x288 with 1 Axes>"
      ]
     },
     "metadata": {
      "needs_background": "light"
     },
     "output_type": "display_data"
    },
    {
     "data": {
      "image/png": "[encoded data removed]",
      "text/plain": [
       "<Figure size 432x288 with 1 Axes>"
      ]
     },
     "metadata": {
      "needs_background": "light"
     },
     "output_type": "display_data"
    },
    {
     "data": {
      "image/png": "[encoded data removed]",
      "text/plain": [
       "<Figure size 432x288 with 1 Axes>"
      ]
     },
     "metadata": {
      "needs_background": "light"
     },
     "output_type": "display_data"
    },
    {
     "data": {
      "image/png": "[encoded data removed]",
      "text/plain": [
       "<Figure size 432x288 with 1 Axes>"
      ]
     },
     "metadata": {
      "needs_background": "light"
     },
     "output_type": "display_data"
    },
    {
     "data": {
      "image/png": "[encoded data removed]",
      "text/plain": [
       "<Figure size 432x288 with 1 Axes>"
      ]
     },
     "metadata": {
      "needs_background": "light"
     },
     "output_type": "display_data"
    },
    {
     "data": {
      "image/png": "[encoded data removed]",
      "text/plain": [
       "<Figure size 432x288 with 1 Axes>"
      ]
     },
     "metadata": {
      "needs_background": "light"
     },
     "output_type": "display_data"
    },
    {
     "data": {
      "image/png": "[encoded data removed]",
      "text/plain": [
       "<Figure size 432x288 with 1 Axes>"
      ]
     },
     "metadata": {
      "needs_background": "light"
     },
     "output_type": "display_data"
    },
    {
     "data": {
      "image/png": "[encoded data removed]",
      "text/plain": [
       "<Figure size 432x288 with 1 Axes>"
      ]
     },
     "metadata": {
      "needs_background": "light"
     },
     "output_type": "display_data"
    },
    {
     "data": {
      "image/png": "[encoded data removed]",
      "text/plain": [
       "<Figure size 432x288 with 1 Axes>"
      ]
     },
     "metadata": {
      "needs_background": "light"
     },
     "output_type": "display_data"
    },
    {
     "data": {
      "image/png": "[encoded data removed]",
      "text/plain": [
       "<Figure size 432x288 with 1 Axes>"
      ]
     },
     "metadata": {
      "needs_background": "light"
     },
     "output_type": "display_data"
    }
   ],
   "source": [
    "#autoencoderの出力\n",
    "for i in range(5):\n",
    "    fig , ax = plt.subplots()\n",
    "    x_test = x_test.reshape(len(x_test),28,28)\n",
    "    ax.imshow(x_test[i])\n",
    "    \n",
    "    fig , ax = plt.subplots()\n",
    "    pred_img = pred_img.reshape(len(pred_img),28,28)\n",
    "    ax.imshow(pred_img[i])\n",
    "\n",
    "    plt.show()"
   ]
  },
  {
   "cell_type": "code",
   "execution_count": 224,
   "metadata": {},
   "outputs": [
    {
     "name": "stdout",
     "output_type": "stream",
     "text": [
      "0.9027\n"
     ]
    }
   ],
   "source": [
    "pred = []\n",
    "for label in pred_labels:\n",
    "    idx = label.argmax()\n",
    "    pred.append(idx)\n",
    "\n",
    "from sklearn.metrics import accuracy_score\n",
    "print(accuracy_score(y_test,pred))"
   ]
  },
  {
   "cell_type": "code",
   "execution_count": 225,
   "metadata": {},
   "outputs": [],
   "source": [
    "del model"
   ]
  },
  {
   "cell_type": "markdown",
   "metadata": {},
   "source": [
    "autoencoderを用いてcnn modelの改良を行うと0.9027の正解率を出力した。"
   ]
  },
  {
   "cell_type": "markdown",
   "metadata": {},
   "source": [
    "各正解率を比べる。\n",
    "\n",
    "改良前:0.7748\n",
    "\n",
    "改良後:0.9027\n"
   ]
  },
  {
   "cell_type": "markdown",
   "metadata": {},
   "source": [
    "シンプルなcnnにシンプルなautoencoderを用いて改良を加えることで精度の向上が見られた。"
   ]
  }
 ],
 "metadata": {
  "kernelspec": {
   "display_name": "Python 3",
   "language": "python",
   "name": "python3"
  },
  "language_info": {
   "codemirror_mode": {
    "name": "ipython",
    "version": 3
   },
   "file_extension": ".py",
   "mimetype": "text/x-python",
   "name": "python",
   "nbconvert_exporter": "python",
   "pygments_lexer": "ipython3",
   "version": "3.8.3"
  }
 },
 "nbformat": 4,
 "nbformat_minor": 4
}
